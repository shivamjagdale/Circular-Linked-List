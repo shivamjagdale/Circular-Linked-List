{
 "cells": [
  {
   "cell_type": "code",
   "execution_count": 5,
   "id": "c2611be5",
   "metadata": {},
   "outputs": [
    {
     "name": "stdout",
     "output_type": "stream",
     "text": [
      "After 1st node\n",
      "10 --> 10\n",
      "\n",
      " \n",
      "After 2nd Node\n",
      "10 --> 20 --> 10\n",
      "\n",
      " \n",
      "After 3rd Node\n",
      "10 --> 20 --> 30 --> 10\n"
     ]
    }
   ],
   "source": [
    "# Circular Linked List Create and Display\n",
    "\n",
    "class Node:\n",
    "    def __init__(self, data):\n",
    "        self.data = data\n",
    "        self.next = None\n",
    "        \n",
    "class CircularLinkedList:\n",
    "    def __init__(self):\n",
    "        self.head = None\n",
    "        self.tail = None\n",
    "        \n",
    "    def display(self):\n",
    "        if self.head is None:\n",
    "            print(\"The CLL is empty\")\n",
    "        else:\n",
    "            \n",
    "            temp = self.head\n",
    "            print(temp.data, \"-->\", end=\" \")\n",
    "            \n",
    "            while temp.next!=self.head:\n",
    "                temp = temp.next\n",
    "                print(temp.data, \"-->\", end=\" \")\n",
    "            print(temp.next.data)    \n",
    "            \n",
    "            \n",
    "l = CircularLinkedList()\n",
    "\n",
    "n1 = Node(10)\n",
    "l.head = n1\n",
    "l.tail = n1\n",
    "l.tail.next = l.head  #This is when you have only 1 single node\n",
    "\n",
    "print(\"After 1st node\")\n",
    "l.display()\n",
    "\n",
    "\n",
    "n2 = Node(20)\n",
    "n1.next = n2\n",
    "l.tail = n2\n",
    "n2.next = n1\n",
    "\n",
    "print(\"\\n \\nAfter 2nd Node\")\n",
    "l.display()\n",
    "\n",
    "\n",
    "n3 = Node(30)\n",
    "n2.next = n3\n",
    "l.tail = n3\n",
    "n3.next = n1\n",
    "\n",
    "print(\"\\n \\nAfter 3rd Node\")\n",
    "l.display()\n"
   ]
  },
  {
   "cell_type": "code",
   "execution_count": null,
   "id": "4d7d210f",
   "metadata": {},
   "outputs": [],
   "source": []
  }
 ],
 "metadata": {
  "kernelspec": {
   "display_name": "Python 3 (ipykernel)",
   "language": "python",
   "name": "python3"
  },
  "language_info": {
   "codemirror_mode": {
    "name": "ipython",
    "version": 3
   },
   "file_extension": ".py",
   "mimetype": "text/x-python",
   "name": "python",
   "nbconvert_exporter": "python",
   "pygments_lexer": "ipython3",
   "version": "3.9.12"
  }
 },
 "nbformat": 4,
 "nbformat_minor": 5
}

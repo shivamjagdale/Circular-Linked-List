{
 "cells": [
  {
   "cell_type": "code",
   "execution_count": 7,
   "id": "22516a85",
   "metadata": {},
   "outputs": [
    {
     "name": "stdout",
     "output_type": "stream",
     "text": [
      "Enter the number you wanna check:- 40\n",
      "40 element has not been found\n",
      "10 --> 20 --> 30 --> 10\n"
     ]
    }
   ],
   "source": [
    "# Circular Linked List searching operation\n",
    "# Here we are using Circular Linked List create and display code. \n",
    "\n",
    "class Node:\n",
    "    def __init__(self, data):\n",
    "        self.data = data\n",
    "        self.next = None\n",
    "        \n",
    "class CircularLinkedList:\n",
    "    def __init__(self):\n",
    "        self.head = None\n",
    "        self.tail = None\n",
    "        \n",
    "    def display(self):\n",
    "        if self.head is None:\n",
    "            print(\"The CLL is empty\")\n",
    "        else:\n",
    "            \n",
    "            temp = self.head\n",
    "            print(temp.data, \"-->\", end=\" \")\n",
    "            \n",
    "            while temp.next!=self.head:\n",
    "                temp = temp.next\n",
    "                print(temp.data, \"-->\", end=\" \")\n",
    "            print(temp.next.data)    \n",
    "            \n",
    "    # The main code starts from here        \n",
    "    def search(self):\n",
    "        x = int(input(\"Enter the number you wanna check:- \"))\n",
    "        flag = 0\n",
    "        count = 0\n",
    "        temp = self.head\n",
    "        \n",
    "        while temp!=self.tail:\n",
    "            if x==temp.data:\n",
    "                flag = 1\n",
    "                break\n",
    "            temp = temp.next\n",
    "            count = count+1\n",
    "        if x==temp.data:\n",
    "            flag = 1\n",
    "            \n",
    "        if flag==1:\n",
    "            print(x,\"element has been found at\", count+1)\n",
    "        else:\n",
    "            print(x, \"element has not been found\")\n",
    "            \n",
    "l = CircularLinkedList()\n",
    "\n",
    "n1 = Node(10)\n",
    "l.head = n1\n",
    "l.tail = n1\n",
    "l.tail.next = l.head  #This is when you have only 1 single node\n",
    "\n",
    "n2 = Node(20)\n",
    "n1.next = n2\n",
    "l.tail = n2\n",
    "n2.next = n1\n",
    "\n",
    "n3 = Node(30)\n",
    "n2.next = n3\n",
    "l.tail = n3\n",
    "n3.next = n1\n",
    "\n",
    "\n",
    "l.search()\n",
    "l.display()\n"
   ]
  },
  {
   "cell_type": "code",
   "execution_count": null,
   "id": "5623fd36",
   "metadata": {},
   "outputs": [],
   "source": []
  },
  {
   "cell_type": "code",
   "execution_count": null,
   "id": "5602cd10",
   "metadata": {},
   "outputs": [],
   "source": []
  }
 ],
 "metadata": {
  "kernelspec": {
   "display_name": "Python 3 (ipykernel)",
   "language": "python",
   "name": "python3"
  },
  "language_info": {
   "codemirror_mode": {
    "name": "ipython",
    "version": 3
   },
   "file_extension": ".py",
   "mimetype": "text/x-python",
   "name": "python",
   "nbconvert_exporter": "python",
   "pygments_lexer": "ipython3",
   "version": "3.9.12"
  }
 },
 "nbformat": 4,
 "nbformat_minor": 5
}
